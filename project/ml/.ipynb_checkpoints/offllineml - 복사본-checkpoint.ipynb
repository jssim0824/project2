{
 "cells": [
  {
   "cell_type": "code",
   "execution_count": null,
   "metadata": {},
   "outputs": [],
   "source": []
  },
  {
   "cell_type": "code",
   "execution_count": null,
   "metadata": {},
   "outputs": [],
   "source": []
  },
  {
   "cell_type": "code",
   "execution_count": null,
   "metadata": {},
   "outputs": [],
   "source": [
    "\n"
   ]
  },
  {
   "cell_type": "code",
   "execution_count": null,
   "metadata": {},
   "outputs": [],
   "source": []
  },
  {
   "cell_type": "code",
   "execution_count": null,
   "metadata": {},
   "outputs": [],
   "source": [
    "\n"
   ]
  },
  {
   "cell_type": "code",
   "execution_count": null,
   "metadata": {},
   "outputs": [],
   "source": []
  },
  {
   "cell_type": "code",
   "execution_count": null,
   "metadata": {},
   "outputs": [],
   "source": [
    "import tensorflow.compat.v1 as tf\n",
    "\n",
    "import numpy as np\n",
    "\n",
    "\n",
    "tf.compat.v1.disable_eager_execution()\n",
    "# 플레이스 홀더를 설정합니다.\n",
    "\n",
    "X = tf.placeholder(tf.float32, shape=[None, 5])\n",
    "\n",
    "Y = tf.placeholder(tf.float32, shape=[None, 1])\n",
    "\n",
    "\n",
    "\n",
    "W = tf.Variable(tf.random_normal([5, 1]), name=\"weight\")\n",
    "\n",
    "b = tf.Variable(tf.random_normal([1]), name=\"bias\")\n"
   ]
  },
  {
   "cell_type": "code",
   "execution_count": null,
   "metadata": {},
   "outputs": [],
   "source": [
    "# 가설을 설정합니다.\n",
    "\n",
    "hypothesis = tf.matmul(X, W) + b\n",
    "\n",
    "\n",
    "\n"
   ]
  },
  {
   "cell_type": "code",
   "execution_count": null,
   "metadata": {},
   "outputs": [],
   "source": [
    "# 저장된 모델을 불러오는 객체를 선언합니다.\n",
    "\n",
    "saver = tf.train.Saver()\n",
    "\n",
    "model = tf.global_variables_initializer()\n",
    "\n",
    "\n",
    "\n"
   ]
  },
  {
   "cell_type": "code",
   "execution_count": 9,
   "metadata": {},
   "outputs": [
    {
     "name": "stdout",
     "output_type": "stream",
     "text": [
      "이더리움 고가변동률: -2\n",
      "비트코인캐시 고가변동률: -0.1\n",
      "이오스 고가변동률: -6.28\n",
      "트론 고가변동률: -6.477\n",
      "라이트코인 고가변동률: -6.353\n"
     ]
    }
   ],
   "source": [
    "# 5가지 변수를 입력 받습니다.\n",
    "\n",
    "ed = float(input('이더리움 고가변동률: '))\n",
    "\n",
    "bcc = float(input('비트코인캐시 고가변동률: '))\n",
    "\n",
    "eos = float(input('이오스 고가변동률: '))\n",
    "\n",
    "tron = float(input('트론 고가변동률: '))\n",
    "\n",
    "lc = float(input('라이트코인 고가변동률: '))\n",
    "\n",
    "\n",
    "\n"
   ]
  },
  {
   "cell_type": "code",
   "execution_count": 10,
   "metadata": {},
   "outputs": [
    {
     "name": "stdout",
     "output_type": "stream",
     "text": [
      "INFO:tensorflow:Restoring parameters from ./saved.cpkt\n",
      "[-2.2537415]\n"
     ]
    }
   ],
   "source": [
    "with tf.Session() as sess:\n",
    "\n",
    "    sess.run(model)\n",
    "    \n",
    "    # 저장된 학습 모델을 파일로부터 불러옵니다.\n",
    "\n",
    "    save_path = \"./saved.cpkt\"\n",
    "\n",
    "    saver.restore(sess, save_path)\n",
    "\n",
    "\n",
    "\n",
    "    # 사용자의 입력 값을 이용해 배열을 만듭니다.\n",
    "\n",
    "    data = ((ed, bcc, eos, tron, lc), )\n",
    "\n",
    "    arr = np.array(data, dtype=np.float32)\n",
    "\n",
    "\n",
    "\n",
    "    # 예측을 수행한 뒤에 그 결과를 출력합니다.\n",
    "\n",
    "    x_data = arr[0:5]\n",
    "\n",
    "    dict = sess.run(hypothesis, feed_dict={X: x_data})\n",
    "\n",
    "    print(dict[0])\n",
    "\n"
   ]
  },
  {
   "cell_type": "code",
   "execution_count": null,
   "metadata": {},
   "outputs": [],
   "source": []
  }
 ],
 "metadata": {
  "kernelspec": {
   "display_name": "Python 3",
   "language": "python",
   "name": "python3"
  },
  "language_info": {
   "codemirror_mode": {
    "name": "ipython",
    "version": 3
   },
   "file_extension": ".py",
   "mimetype": "text/x-python",
   "name": "python",
   "nbconvert_exporter": "python",
   "pygments_lexer": "ipython3",
   "version": "3.8.5"
  }
 },
 "nbformat": 4,
 "nbformat_minor": 4
}
